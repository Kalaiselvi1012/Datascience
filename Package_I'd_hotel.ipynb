{
  "nbformat": 4,
  "nbformat_minor": 0,
  "metadata": {
    "colab": {
      "provenance": [],
      "mount_file_id": "1w_zL3VCfIbaOwAqlQohmIcVs9wzFrPBz",
      "authorship_tag": "ABX9TyNmkDu7ZU6PK0R2fRE8DXcj",
      "include_colab_link": true
    },
    "kernelspec": {
      "name": "python3",
      "display_name": "Python 3"
    },
    "language_info": {
      "name": "python"
    }
  },
  "cells": [
    {
      "cell_type": "markdown",
      "metadata": {
        "id": "view-in-github",
        "colab_type": "text"
      },
      "source": [
        "<a href=\"https://colab.research.google.com/github/Kalaiselvi1012/Datascience/blob/main/Package_I'd_hotel.ipynb\" target=\"_parent\"><img src=\"https://colab.research.google.com/assets/colab-badge.svg\" alt=\"Open In Colab\"/></a>"
      ]
    },
    {
      "cell_type": "code",
      "source": [
        "pip install tabula_py"
      ],
      "metadata": {
        "colab": {
          "base_uri": "https://localhost:8080/"
        },
        "id": "o7ovWUu6tKXn",
        "outputId": "f3fa2126-6f9d-4ee9-edb7-baf91bf8e0a4"
      },
      "execution_count": null,
      "outputs": [
        {
          "output_type": "stream",
          "name": "stdout",
          "text": [
            "Collecting tabula_py\n",
            "  Downloading tabula_py-2.9.0-py3-none-any.whl (12.0 MB)\n",
            "\u001b[2K     \u001b[90m━━━━━━━━━━━━━━━━━━━━━━━━━━━━━━━━━━━━━━━━\u001b[0m \u001b[32m12.0/12.0 MB\u001b[0m \u001b[31m78.4 MB/s\u001b[0m eta \u001b[36m0:00:00\u001b[0m\n",
            "\u001b[?25hRequirement already satisfied: pandas>=0.25.3 in /usr/local/lib/python3.10/dist-packages (from tabula_py) (1.5.3)\n",
            "Requirement already satisfied: numpy in /usr/local/lib/python3.10/dist-packages (from tabula_py) (1.23.5)\n",
            "Requirement already satisfied: distro in /usr/lib/python3/dist-packages (from tabula_py) (1.7.0)\n",
            "Requirement already satisfied: python-dateutil>=2.8.1 in /usr/local/lib/python3.10/dist-packages (from pandas>=0.25.3->tabula_py) (2.8.2)\n",
            "Requirement already satisfied: pytz>=2020.1 in /usr/local/lib/python3.10/dist-packages (from pandas>=0.25.3->tabula_py) (2023.3.post1)\n",
            "Requirement already satisfied: six>=1.5 in /usr/local/lib/python3.10/dist-packages (from python-dateutil>=2.8.1->pandas>=0.25.3->tabula_py) (1.16.0)\n",
            "Installing collected packages: tabula_py\n",
            "Successfully installed tabula_py-2.9.0\n"
          ]
        }
      ]
    },
    {
      "cell_type": "code",
      "source": [
        "import tabula\n",
        "pdf_path='/content/drive/MyDrive/Package Id.pdf'\n",
        "\n",
        "for page in range(0, 1):\n",
        " df=tabula.read_pdf(pdf_path,pages=page )\n",
        "print(f\"Data from Page{page}\")\n",
        "print(df)"
      ],
      "metadata": {
        "colab": {
          "base_uri": "https://localhost:8080/"
        },
        "id": "2vrC_RlyuJTv",
        "outputId": "a0219432-1b2d-48e4-8d3b-aa0bb1954ebd"
      },
      "execution_count": null,
      "outputs": [
        {
          "output_type": "stream",
          "name": "stderr",
          "text": [
            "WARNING:tabula.backend:Error importing jpype dependencies. Fallback to subprocess.\n",
            "WARNING:tabula.backend:No module named 'jpype'\n",
            "WARNING:tabula.util:'pages' argument isn't specified.Will extract only from page 1 by default.\n"
          ]
        },
        {
          "output_type": "stream",
          "name": "stdout",
          "text": [
            "Data from Page0\n",
            "[              Hotel ID           Type Location Destination  \\\n",
            "0   I-BAL-UBUD-AKS-001  International     Bali        Ubud   \n",
            "1   I-BAL-UBUD-AKS-001  International     Bali        Ubud   \n",
            "2   I-BAL-UBUD-AKS-001  International     Bali        Ubud   \n",
            "3   I-BAL-UBUD-AKS-001  International     Bali        Ubud   \n",
            "4   I-BAL-UBUD-AKS-001  International     Bali        Ubud   \n",
            "..                 ...            ...      ...         ...   \n",
            "78                 NaN            NaN      NaN         NaN   \n",
            "79                 NaN            NaN      NaN         NaN   \n",
            "80                 NaN            NaN      NaN         NaN   \n",
            "81                 NaN            NaN      NaN         NaN   \n",
            "82                 NaN            NaN      NaN         NaN   \n",
            "\n",
            "              Property                                         Unnamed: 0  \\\n",
            "0   Aksari Resort Ubud  Royal One Bedroom River View Villa with Privat...   \n",
            "1   Aksari Resort Ubud          Royal One Bedroom Villa with Private Pool   \n",
            "2   Aksari Resort Ubud                One Bedroom Villa with Private Pool   \n",
            "3   Aksari Resort Ubud          Royal Two Bedroom Villa with Private Pool   \n",
            "4   Aksari Resort Ubud                                       Aksari Suite   \n",
            "..                 ...                                                ...   \n",
            "78                 NaN                                                NaN   \n",
            "79                 NaN                                                NaN   \n",
            "80                 NaN                                                NaN   \n",
            "81                 NaN                                                NaN   \n",
            "82                 NaN                                                NaN   \n",
            "\n",
            "   Unnamed: 1  CUR Totel Rooms             CP  ...  Package Title  \\\n",
            "0         IDR    2   3,200,000     11,800,000  ...              `   \n",
            "1         IDR    4   3,200,010     10,800,000  ...    16-Sep-2023   \n",
            "2         IDR    1   3,200,020     10,800,000  ...    16-Sep-2023   \n",
            "3         IDR    1   3,200,030  Not Available  ...    16-Sep-2023   \n",
            "4         IDR    8   3,200,040  Not Available  ...    16-Sep-2023   \n",
            "..        ...  ...         ...            ...  ...            ...   \n",
            "78        NaN  NaN         NaN            NaN  ...            NaN   \n",
            "79        NaN  NaN         NaN            NaN  ...            NaN   \n",
            "80        NaN  NaN         NaN            NaN  ...            NaN   \n",
            "81        NaN  NaN         NaN            NaN  ...            NaN   \n",
            "82        NaN  NaN         NaN            NaN  ...            NaN   \n",
            "\n",
            "   Tariff Start\\rDate - 1  Tariff End Date\\r- 1  Tariff Start\\rDate - 2  \\\n",
            "0             20-Dec-2023                   NaN                     NaN   \n",
            "1             20-Dec-2023                   NaN                     NaN   \n",
            "2             20-Dec-2023                   NaN                     NaN   \n",
            "3             20-Dec-2023                   NaN                     NaN   \n",
            "4             20-Dec-2023                   NaN                     NaN   \n",
            "..                    ...                   ...                     ...   \n",
            "78                    NaN                   NaN                     NaN   \n",
            "79                    NaN                   NaN                     NaN   \n",
            "80                    NaN                   NaN                     NaN   \n",
            "81                    NaN                   NaN                     NaN   \n",
            "82                    NaN                   NaN                     NaN   \n",
            "\n",
            "   Tariff End Date\\r- 2  Tariff Start\\rDate - 3 Tariff End Date\\r- 3  \\\n",
            "0                   NaN                     NaN                  NaN   \n",
            "1                   NaN                     NaN                  NaN   \n",
            "2                   NaN                     NaN                  NaN   \n",
            "3                   NaN                     NaN                  NaN   \n",
            "4                   NaN                     NaN                  NaN   \n",
            "..                  ...                     ...                  ...   \n",
            "78                  NaN                     NaN                  NaN   \n",
            "79                  NaN                     NaN                  NaN   \n",
            "80                  NaN                     NaN                  NaN   \n",
            "81                  NaN                     NaN                  NaN   \n",
            "82                  NaN                     NaN                  NaN   \n",
            "\n",
            "    Unnamed: 3  Unnamed: 4  Unnamed: 5  \n",
            "0          NaN         NaN         NaN  \n",
            "1          NaN         NaN         NaN  \n",
            "2          NaN         NaN         NaN  \n",
            "3          NaN         NaN         NaN  \n",
            "4          NaN         NaN         NaN  \n",
            "..         ...         ...         ...  \n",
            "78         NaN         NaN         NaN  \n",
            "79         NaN         NaN         NaN  \n",
            "80         NaN         NaN         NaN  \n",
            "81         NaN         NaN         NaN  \n",
            "82         NaN         NaN         NaN  \n",
            "\n",
            "[83 rows x 34 columns]]\n"
          ]
        }
      ]
    },
    {
      "cell_type": "code",
      "source": [
        "pip install pdfplumber"
      ],
      "metadata": {
        "colab": {
          "base_uri": "https://localhost:8080/"
        },
        "id": "ZIYGRHG0uWMD",
        "outputId": "3d8faf77-7dd9-463d-b7f7-b355cefffafd"
      },
      "execution_count": null,
      "outputs": [
        {
          "output_type": "stream",
          "name": "stdout",
          "text": [
            "Collecting pdfplumber\n",
            "  Downloading pdfplumber-0.10.3-py3-none-any.whl (48 kB)\n",
            "\u001b[2K     \u001b[90m━━━━━━━━━━━━━━━━━━━━━━━━━━━━━━━━━━━━━━━━\u001b[0m \u001b[32m49.0/49.0 kB\u001b[0m \u001b[31m764.7 kB/s\u001b[0m eta \u001b[36m0:00:00\u001b[0m\n",
            "\u001b[?25hCollecting pdfminer.six==20221105 (from pdfplumber)\n",
            "  Downloading pdfminer.six-20221105-py3-none-any.whl (5.6 MB)\n",
            "\u001b[2K     \u001b[90m━━━━━━━━━━━━━━━━━━━━━━━━━━━━━━━━━━━━━━━━\u001b[0m \u001b[32m5.6/5.6 MB\u001b[0m \u001b[31m43.9 MB/s\u001b[0m eta \u001b[36m0:00:00\u001b[0m\n",
            "\u001b[?25hRequirement already satisfied: Pillow>=9.1 in /usr/local/lib/python3.10/dist-packages (from pdfplumber) (9.4.0)\n",
            "Collecting pypdfium2>=4.18.0 (from pdfplumber)\n",
            "  Downloading pypdfium2-4.24.0-py3-none-manylinux_2_17_x86_64.whl (3.0 MB)\n",
            "\u001b[2K     \u001b[90m━━━━━━━━━━━━━━━━━━━━━━━━━━━━━━━━━━━━━━━━\u001b[0m \u001b[32m3.0/3.0 MB\u001b[0m \u001b[31m67.1 MB/s\u001b[0m eta \u001b[36m0:00:00\u001b[0m\n",
            "\u001b[?25hRequirement already satisfied: charset-normalizer>=2.0.0 in /usr/local/lib/python3.10/dist-packages (from pdfminer.six==20221105->pdfplumber) (3.3.2)\n",
            "Requirement already satisfied: cryptography>=36.0.0 in /usr/local/lib/python3.10/dist-packages (from pdfminer.six==20221105->pdfplumber) (41.0.5)\n",
            "Requirement already satisfied: cffi>=1.12 in /usr/local/lib/python3.10/dist-packages (from cryptography>=36.0.0->pdfminer.six==20221105->pdfplumber) (1.16.0)\n",
            "Requirement already satisfied: pycparser in /usr/local/lib/python3.10/dist-packages (from cffi>=1.12->cryptography>=36.0.0->pdfminer.six==20221105->pdfplumber) (2.21)\n",
            "Installing collected packages: pypdfium2, pdfminer.six, pdfplumber\n",
            "Successfully installed pdfminer.six-20221105 pdfplumber-0.10.3 pypdfium2-4.24.0\n"
          ]
        }
      ]
    },
    {
      "cell_type": "code",
      "source": [
        "import pdfplumber\n",
        "pdf=pdfplumber.open('/content/drive/MyDrive/Package Id.pdf')\n",
        "print(pdf.pages)\n",
        "#import pdfplumber\n",
        "#pdf=pdfplumber.open('/content/drive/MyDrive/Colab Notebooks/data. Pdf.pdf')\n",
        "#print(pdf.pages)"
      ],
      "metadata": {
        "colab": {
          "base_uri": "https://localhost:8080/"
        },
        "id": "4ZXnNYpWubJW",
        "outputId": "c169a1b8-0cab-46e9-d25d-b3afb17628ad"
      },
      "execution_count": null,
      "outputs": [
        {
          "output_type": "stream",
          "name": "stdout",
          "text": [
            "[<Page:1>, <Page:2>, <Page:3>]\n"
          ]
        }
      ]
    }
  ]
}